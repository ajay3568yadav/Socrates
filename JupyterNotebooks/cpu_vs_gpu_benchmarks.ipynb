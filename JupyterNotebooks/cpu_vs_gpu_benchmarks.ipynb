{
 "cells": [
  {
   "cell_type": "markdown",
   "id": "fb8b074f",
   "metadata": {},
   "source": [
    "# 🚀 CPU vs GPU Benchmarking Notebook\n",
    "**Author:** ssinha78  \n",
    "**Description:** Demonstrates beginner-friendly CPU (NumPy, Pandas, scikit-learn) vs GPU (CuPy, cuDF, cuML) examples\n",
    "with a variety of benchmarking techniques: `%timeit`, `perf_counter`, cell magics, and profiling.\n"
   ]
  },
  {
   "cell_type": "markdown",
   "id": "26a02fe1",
   "metadata": {},
   "source": [
    "## 0. Environment Setup\n",
    "Import CPU and GPU libraries, and helper for timing."
   ]
  },
  {
   "cell_type": "code",
   "execution_count": null,
   "id": "d74cfd71",
   "metadata": {},
   "outputs": [],
   "source": [
    "import time\n",
    "import numpy as np\n",
    "import pandas as pd\n",
    "from time import perf_counter\n",
    "\n",
    "# GPU libs\n",
    "import cupy as cp\n",
    "import cudf\n",
    "from cuml.linear_model import LogisticRegression as cuLogisticRegression\n",
    "from cuml.cluster import KMeans as cuKMeans\n"
   ]
  },
  {
   "cell_type": "markdown",
   "id": "dc115f68",
   "metadata": {},
   "source": [
    "## 1. Vector Addition\n",
    "**Benchmark with `%timeit`**"
   ]
  },
  {
   "cell_type": "code",
   "execution_count": null,
   "id": "c63099e9",
   "metadata": {},
   "outputs": [],
   "source": [
    "# CPU (NumPy)\n",
    "n = 10_000_000\n",
    "a = np.random.rand(n)\n",
    "b = np.random.rand(n)\n",
    "%timeit -n 5 c = a + b"
   ]
  },
  {
   "cell_type": "code",
   "execution_count": null,
   "id": "0a65eabb",
   "metadata": {},
   "outputs": [],
   "source": [
    "# GPU (CuPy)\n",
    "a_gpu = cp.array(a)\n",
    "b_gpu = cp.array(b)\n",
    "%timeit -n 5 c_gpu = a_gpu + b_gpu; cp.cuda.Device().synchronize()"
   ]
  },
  {
   "cell_type": "markdown",
   "id": "dbcad510",
   "metadata": {},
   "source": [
    "## 2. Custom CUDA Kernel\n",
    "**Benchmark with `perf_counter`**"
   ]
  },
  {
   "cell_type": "code",
   "execution_count": null,
   "id": "ea6b6ece",
   "metadata": {},
   "outputs": [],
   "source": [
    "from cupy import RawKernel\n",
    "kernel_code = r'''\n",
    "extern \"C\" __global__\n",
    "void square(const float* x, float* y, size_t n) {\n",
    "    int i = blockDim.x * blockIdx.x + threadIdx.x;\n",
    "    if (i < n) y[i] = x[i] * x[i];\n",
    "}'''\n",
    "sq_kernel = RawKernel(kernel_code, 'square')\n",
    "\n",
    "# Prepare data\n",
    "x = np.random.rand(n).astype('float32')\n",
    "x_gpu = cp.array(x)\n",
    "y_gpu = cp.empty_like(x_gpu)\n",
    "threads, blocks = 256, (n + 255)//256\n",
    "\n",
    "start = perf_counter()\n",
    "sq_kernel((blocks,), (threads,), (x_gpu, y_gpu, n))\n",
    "cp.cuda.Stream.null.synchronize()\n",
    "print('RawKernel square time:', perf_counter() - start)"
   ]
  },
  {
   "cell_type": "markdown",
   "id": "0e7a02f0",
   "metadata": {},
   "source": [
    "## 3. DataFrame GroupBy & Filter\n",
    "**Benchmark with `perf_counter` and cell profiling**"
   ]
  },
  {
   "cell_type": "code",
   "execution_count": null,
   "id": "1d65a1f2",
   "metadata": {},
   "outputs": [],
   "source": [
    "from time import perf_counter\n",
    "n = 50_000_00\n",
    "data = {'key': np.random.randint(0,1000,n),\n",
    "        'v1': np.random.randn(n),\n",
    "        'v2': np.random.randn(n)}\n",
    "pdf = pd.DataFrame(data)\n",
    "\n",
    "# CPU\n",
    "start = perf_counter()\n",
    "res_cpu = pdf.groupby('key').agg({'v1':['sum','mean'],'v2':['min','max']})\n",
    "cpu_time = perf_counter() - start\n",
    "print(f'Pandas groupby time: {cpu_time:.4f}s')\n",
    "\n",
    "# GPU\n",
    "gdf = cudf.DataFrame.from_pandas(pdf)\n",
    "start = perf_counter()\n",
    "res_gpu = gdf.groupby('key').agg({'v1':['sum','mean'],'v2':['min','max']})\n",
    "cp.cuda.Stream.null.synchronize()\n",
    "gpu_time = perf_counter() - start\n",
    "print(f'cuDF groupby time: {gpu_time:.4f}s')\n",
    "print(f'Speedup: {cpu_time/gpu_time:.2f}x')"
   ]
  },
  {
   "cell_type": "code",
   "execution_count": null,
   "id": "ab5da8ca",
   "metadata": {},
   "outputs": [],
   "source": [
    "%%cudf.pandas.profile\n",
    "pdf = pd.DataFrame(data)\n",
    "res = pdf.groupby('key').agg({'v1':['sum','mean'],'v2':['min','max']})"
   ]
  },
  {
   "cell_type": "markdown",
   "id": "3ff4a9cc",
   "metadata": {},
   "source": [
    "## 4. Memory Transfer: Pageable vs Pinned\n",
    "**Benchmark with `perf_counter`**"
   ]
  },
  {
   "cell_type": "code",
   "execution_count": null,
   "id": "ee87341a",
   "metadata": {},
   "outputs": [],
   "source": [
    "h = np.random.rand(20_000_000).astype('float32')\n",
    "# Pageable\n",
    "start = perf_counter()\n",
    "d = cp.array(h)\n",
    "cp.cuda.Stream.null.synchronize()\n",
    "print('Pageable copy:', perf_counter() - start)\n",
    "\n",
    "# Pinned\n",
    "h_pin = cp.cuda.alloc_pinned_memory(h.nbytes)\n",
    "view = np.frombuffer(h_pin, h.dtype, h.shape)\n",
    "view[:] = h\n",
    "start = perf_counter()\n",
    "d2 = cp.asarray(view)\n",
    "cp.cuda.Stream.null.synchronize()\n",
    "print('Pinned copy:   ', perf_counter() - start)"
   ]
  },
  {
   "cell_type": "markdown",
   "id": "87d6a8c4",
   "metadata": {},
   "source": [
    "## 5. Machine Learning\n",
    "### 5.1 Logistic Regression\n",
    "**Benchmark with `perf_counter`**"
   ]
  },
  {
   "cell_type": "code",
   "execution_count": null,
   "id": "ea0e3969",
   "metadata": {},
   "outputs": [],
   "source": [
    "from sklearn.datasets import make_classification\n",
    "from sklearn.linear_model import LogisticRegression\n",
    "from sklearn.model_selection import train_test_split\n",
    "from sklearn.metrics import accuracy_score\n",
    "\n",
    "X, y = make_classification(200_000, 20, random_state=0)\n",
    "Xtr, Xte, ytr, yte = train_test_split(X, y, test_size=0.2)\n",
    "\n",
    "# CPU\n",
    "start = perf_counter()\n",
    "clf = LogisticRegression(max_iter=100).fit(Xtr, ytr)\n",
    "pred = clf.predict(Xte)\n",
    "print('SKLearn acc:', accuracy_score(yte, pred))\n",
    "print('SKLearn time:', perf_counter() - start)\n",
    "\n",
    "# GPU\n",
    "Xc, yc = cp.array(X), cp.array(y)\n",
    "Xtr_c, Xte_c, ytr_c, yte_c = train_test_split(Xc, yc, test_size=0.2)\n",
    "start = perf_counter()\n",
    "cuclf = cuLogisticRegression(max_iter=100).fit(Xtr_c, ytr_c)\n",
    "pred_c = cuclf.predict(Xte_c)\n",
    "cp.cuda.Stream.null.synchronize()\n",
    "from cuml.metrics import accuracy_score as cu_acc\n",
    "print('cuML acc:', cu_acc(yte_c, pred_c))\n",
    "print('cuML time:', perf_counter() - start)"
   ]
  },
  {
   "cell_type": "markdown",
   "id": "9ea9e669",
   "metadata": {},
   "source": [
    "### 5.2 K-Means Clustering\n",
    "**Benchmark with `%timeit`**"
   ]
  },
  {
   "cell_type": "code",
   "execution_count": null,
   "id": "c761318d",
   "metadata": {},
   "outputs": [],
   "source": [
    "# CPU KMeans\n",
    "data = np.random.rand(1_000_000, 2)\n",
    "from sklearn.cluster import KMeans\n",
    "%timeit -n3 km = KMeans(3).fit(data)"
   ]
  },
  {
   "cell_type": "code",
   "execution_count": null,
   "id": "18991c9b",
   "metadata": {},
   "outputs": [],
   "source": [
    "# GPU KMeans\n",
    "data_c = cp.asarray(data)\n",
    "%timeit -n3 km_c = cuKMeans(3).fit(data_c); cp.cuda.Device().synchronize()"
   ]
  },
  {
   "cell_type": "markdown",
   "id": "1d957845",
   "metadata": {},
   "source": [
    "## 6. Best Practices & Tips\n",
    "- Minimize host↔device transfers (batch data).  \n",
    "- Use pinned memory for large copies.  \n",
    "- Profile often: `%timeit`, `perf_counter`, Nsight.  \n",
    "- Prefer library routines (cuBLAS, cuDNN).  \n",
    "- Tune blocks/threads (128–256 threads).  \n",
    "- Mixed precision (FP16) where possible."
   ]
  }
 ],
 "metadata": {},
 "nbformat": 4,
 "nbformat_minor": 5
}
